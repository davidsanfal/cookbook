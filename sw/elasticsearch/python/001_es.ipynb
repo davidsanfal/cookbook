{
 "cells": [
  {
   "cell_type": "markdown",
   "metadata": {
    "deletable": true,
    "editable": true
   },
   "source": [
    "# 00 elasticsearch 5 con Docker\n",
    "\n",
    "## Docs\n",
    "\n",
    "- [elasticsearch dockerhub](https://hub.docker.com/_/elasticsearch/)\n",
    "- [kibana dockerhub](https://hub.docker.com/_/elasticsearch/)\n",
    "- [elasticsearch-py docs](https://elasticsearch-py.readthedocs.io/en/master/)\n",
    "\n",
    "### Elasticsearch en local\n",
    "\n",
    "```sh\n",
    "docker run --name elastic -v [ES_FOLDER]:/usr/share/elasticsearch/data -p 9200:9200 -d elasticsearch:5\n",
    "docker run --name sense --link elastic:elasticsearch  -p 5601:5601 -d kibana:5\n",
    "```\n",
    "\n",
    "> **DEBIAN** Es posible tener que ampliar la memoria que se le da a los contenedores, para esto:\n",
    ">\n",
    "> ```sh\n",
    "> sudo sysctl -w vm.max_map_count=262144\n",
    "> ```\n",
    "\n",
    "## Elasticsearch en un servidor remoto\n",
    "\n",
    "```sh\n",
    "docker run --name sense -e ELASTICSEARCH_URL=http://[ES_IP]:[ES_PORT] -p 5601:5601 -d kibana:5\n",
    "```\n",
    "\n",
    "## Python requirements para este notebook\n",
    "\n",
    "```sh\n",
    "elasticsearch==5.1.0\n",
    "Faker==0.7.7\n",
    "requests\n",
    "```\n",
    "\n"
   ]
  },
  {
   "cell_type": "markdown",
   "metadata": {
    "deletable": true,
    "editable": true
   },
   "source": [
    "# 01 elasticsearch-py"
   ]
  },
  {
   "cell_type": "markdown",
   "metadata": {
    "deletable": true,
    "editable": true
   },
   "source": [
    "## 01-01 introducción"
   ]
  },
  {
   "cell_type": "markdown",
   "metadata": {
    "deletable": true,
    "editable": true
   },
   "source": [
    "Vamos a **crear un cliente de elasticsearch** pasandole como parametro una lista con todas las *ips:port* de los nodos de elasticsearch. En este caso solo tenemos uno."
   ]
  },
  {
   "cell_type": "code",
   "execution_count": null,
   "metadata": {
    "collapsed": true,
    "deletable": true,
    "editable": true
   },
   "outputs": [],
   "source": [
    "%%capture\n",
    "import json\n",
    "from elasticsearch import Elasticsearch\n",
    "\n",
    "\n",
    "originAddr = 'localhost'\n",
    "originPort = 9200\n",
    "es = Elasticsearch(['{}:{}'.format(originAddr, str(originPort))])\n",
    "\n",
    "\n",
    "def print_response(response):\n",
    "    print(json.dumps(response, sort_keys=True, indent=2))"
   ]
  },
  {
   "cell_type": "markdown",
   "metadata": {
    "deletable": true,
    "editable": true
   },
   "source": [
    "Vamos a **crear un indice** muy simpl sin mappings para los datos. Mas adelante hablaremos de los mappings, pero por ahora no son necesaios."
   ]
  },
  {
   "cell_type": "code",
   "execution_count": null,
   "metadata": {
    "collapsed": false,
    "deletable": true,
    "editable": true
   },
   "outputs": [],
   "source": [
    "es.indices.create(index='test-index')"
   ]
  },
  {
   "cell_type": "markdown",
   "metadata": {
    "deletable": true,
    "editable": true
   },
   "source": [
    "Se le puede pasar una lisa (o un valor simple) de los **errorres de HTTP a ignorar**.\n",
    "\n",
    "Por ejemplo, si queremos **crear un indice si no existe**, ignoraremos el **error 400**."
   ]
  },
  {
   "cell_type": "code",
   "execution_count": null,
   "metadata": {
    "collapsed": false,
    "deletable": true,
    "editable": true
   },
   "outputs": [],
   "source": [
    "es.indices.create(index='test-index', ignore=400)"
   ]
  },
  {
   "cell_type": "markdown",
   "metadata": {
    "deletable": true,
    "editable": true
   },
   "source": [
    "Para **borrar un indice** se hace igual que para crearlos, incluido la manera de **ignorar errores**."
   ]
  },
  {
   "cell_type": "code",
   "execution_count": null,
   "metadata": {
    "collapsed": false,
    "deletable": true,
    "editable": true
   },
   "outputs": [],
   "source": [
    "es.indices.delete(index='test-index', ignore=[400, 404])"
   ]
  },
  {
   "cell_type": "markdown",
   "metadata": {
    "deletable": true,
    "editable": true
   },
   "source": [
    "Para **indexar un documento**, hay dos maneras de hacerlo:\n",
    "\n",
    "- **create**: crea un nuevo documento y falla si ya existe un documento con el mismo indice.\n",
    "- **index**: crea un nuevo documento o lo actualiza si ya existe el indice."
   ]
  },
  {
   "cell_type": "code",
   "execution_count": null,
   "metadata": {
    "collapsed": false,
    "deletable": true,
    "editable": true
   },
   "outputs": [],
   "source": [
    "%%capture\n",
    "es.indices.delete(index='test', ignore=[400, 404])\n",
    "_doc = {\n",
    "    \"name\": \"david\",\n",
    "    \"age\": 28,\n",
    "    \"date\": \"17-11-1988\"\n",
    "}\n",
    "es.indices.create(index='test', ignore=400)\n",
    "es.create(index='test', doc_type='user', id=1, body=_doc)\n",
    "try:\n",
    "    es.create(index='test', doc_type='user', id=1, body=_doc)\n",
    "except Exception as e:\n",
    "    print(e)\n",
    "es.delete(index='test', doc_type='user', id=1)\n",
    "es.index(index='test', doc_type='user', id=1, body=_doc)\n",
    "_doc[\"name\"] = \"David Sanchez Falero\"\n",
    "es.index(index='test', doc_type='user', id=1, body=_doc)\n",
    "es.indices.delete(index='test', ignore=[400, 404])"
   ]
  },
  {
   "cell_type": "markdown",
   "metadata": {
    "deletable": true,
    "editable": true
   },
   "source": [
    "## 01-02 Ejemplo 1: primeras queries y uso de los mappings"
   ]
  },
  {
   "cell_type": "markdown",
   "metadata": {
    "deletable": true,
    "editable": true
   },
   "source": [
    "Ahora vamos a crear un indice nuevo que almacene perfiles de usuarios y vamos a crearnos 10 perfiles aleatorios. Para esto vamos a usar la libreria Faker de python."
   ]
  },
  {
   "cell_type": "code",
   "execution_count": null,
   "metadata": {
    "collapsed": false,
    "deletable": true,
    "editable": true
   },
   "outputs": [],
   "source": [
    "import datetime\n",
    "import time\n",
    "from faker import Factory\n",
    "\n",
    "fake = Factory.create()\n",
    "\n",
    "es.indices.delete(index='users', ignore=404)\n",
    "es.indices.create(index='users', ignore=400)\n",
    "\n",
    "for i in range(0, 10):\n",
    "    profile = fake.simple_profile()\n",
    "    birthdate = datetime.datetime.strptime(profile['birthdate'], '%Y-%m-%d')\n",
    "    profile['timestamp'] = int(time.mktime(birthdate.timetuple()) * 1e3)\n",
    "    es.index(index='users', doc_type='user', id=i, body=profile)"
   ]
  },
  {
   "cell_type": "code",
   "execution_count": null,
   "metadata": {
    "collapsed": false,
    "deletable": true,
    "editable": true
   },
   "outputs": [],
   "source": [
    "response = es.count(index='users')\n",
    "response.get('count')"
   ]
  },
  {
   "cell_type": "code",
   "execution_count": null,
   "metadata": {
    "collapsed": false,
    "deletable": true,
    "editable": true
   },
   "outputs": [],
   "source": [
    "print_response(es.search(index='users'))"
   ]
  },
  {
   "cell_type": "code",
   "execution_count": null,
   "metadata": {
    "collapsed": false,
    "deletable": true,
    "editable": true
   },
   "outputs": [],
   "source": [
    "print_response(es.search(index='users', doc_type='user', _source=False))"
   ]
  },
  {
   "cell_type": "code",
   "execution_count": null,
   "metadata": {
    "collapsed": false,
    "deletable": true,
    "editable": true
   },
   "outputs": [],
   "source": [
    "print_response(es.search(index='users', doc_type='user', _source_include=['name'], size=1))"
   ]
  },
  {
   "cell_type": "code",
   "execution_count": null,
   "metadata": {
    "collapsed": false,
    "deletable": true,
    "editable": true
   },
   "outputs": [],
   "source": [
    "response = es.search(index='users',\n",
    "                         doc_type='user',\n",
    "                         _source_include=['name'],\n",
    "                         size=1,\n",
    "                         filter_path=['hits.hits._source.name'])\n",
    "print_response(response)\n",
    "user_name = response['hits']['hits'][0]['_source']['name']"
   ]
  },
  {
   "cell_type": "code",
   "execution_count": null,
   "metadata": {
    "collapsed": false,
    "deletable": true,
    "editable": true
   },
   "outputs": [],
   "source": [
    "query = {\n",
    "  \"query\": {\n",
    "    \"match\": {\n",
    "      \"name\": user_name.lower()\n",
    "    }\n",
    "  }\n",
    "}\n",
    "print_response(es.search(index='users', doc_type='user', body=query))"
   ]
  },
  {
   "cell_type": "code",
   "execution_count": null,
   "metadata": {
    "collapsed": false,
    "deletable": true,
    "editable": true
   },
   "outputs": [],
   "source": [
    "query = {\n",
    "  \"query\": {\n",
    "    \"match\": {\n",
    "      \"name.keyword\": user_name\n",
    "    }\n",
    "  }\n",
    "}\n",
    "print_response(es.search(index='users', doc_type='user', body=query))"
   ]
  },
  {
   "cell_type": "code",
   "execution_count": null,
   "metadata": {
    "collapsed": false,
    "deletable": true,
    "editable": true
   },
   "outputs": [],
   "source": [
    "query = {\n",
    "  \"query\": {\n",
    "    \"match\": {\n",
    "      \"name.keyword\": user_name.lower()\n",
    "    }\n",
    "  }\n",
    "}\n",
    "print_response(es.search(index='users', doc_type='user', body=query))"
   ]
  },
  {
   "cell_type": "code",
   "execution_count": null,
   "metadata": {
    "collapsed": false,
    "deletable": true,
    "editable": true
   },
   "outputs": [],
   "source": [
    "query = {\n",
    "  \"query\": {\n",
    "    \"match\": {\n",
    "      \"name\": user_name[4:]\n",
    "    }\n",
    "  }\n",
    "}\n",
    "print_response(es.search(index='users', doc_type='user', body=query))"
   ]
  },
  {
   "cell_type": "code",
   "execution_count": null,
   "metadata": {
    "collapsed": false,
    "deletable": true,
    "editable": true
   },
   "outputs": [],
   "source": [
    "query = {\n",
    "  \"query\": {\n",
    "    \"match\": {\n",
    "      \"name\": user_name[2:4]\n",
    "    }\n",
    "  }\n",
    "}\n",
    "print_response(es.search(index='users', doc_type='user', body=query))"
   ]
  },
  {
   "cell_type": "code",
   "execution_count": null,
   "metadata": {
    "collapsed": false,
    "deletable": true,
    "editable": true
   },
   "outputs": [],
   "source": [
    "query = {\n",
    "  \"query\": {\n",
    "    \"bool\": {\n",
    "      \"must\": [\n",
    "        {\n",
    "          \"wildcard\": {\n",
    "            \"name\": {\n",
    "              \"value\": \"*{}*\".format(user_name[1:3])\n",
    "            }\n",
    "          }\n",
    "        }\n",
    "      ]\n",
    "    }\n",
    "  }\n",
    "}\n",
    "print_response(es.search(index='users', doc_type='user', body=query))"
   ]
  },
  {
   "cell_type": "code",
   "execution_count": null,
   "metadata": {
    "collapsed": false,
    "deletable": true,
    "editable": true
   },
   "outputs": [],
   "source": [
    "query = {\n",
    "  \"query\": {\n",
    "    \"bool\": {\n",
    "      \"must\": [\n",
    "        {\n",
    "          \"range\": {\n",
    "            \"birthdate\": {\n",
    "              \"gte\": \"20/01/1988\",\n",
    "              \"lte\": \"2016\",\n",
    "              \"format\": \"dd/MM/yyyy||yyyy\"\n",
    "            }\n",
    "          }\n",
    "        }\n",
    "      ]\n",
    "    }\n",
    "  }\n",
    "}\n",
    "\n",
    "print_response(es.search(index='users', doc_type='user', body=query))"
   ]
  },
  {
   "cell_type": "code",
   "execution_count": null,
   "metadata": {
    "collapsed": false,
    "deletable": true,
    "editable": true
   },
   "outputs": [],
   "source": [
    "query = {\n",
    "  \"size\": 0,\n",
    "  \"query\": {\n",
    "    \"bool\": {\n",
    "      \"must\": [\n",
    "        {\n",
    "          \"range\": {\n",
    "            \"birthdate\": {\n",
    "              \"gte\": \"20/01/1988\",\n",
    "              \"lte\": \"2016\",\n",
    "              \"format\": \"dd/MM/yyyy||yyyy\"\n",
    "            }\n",
    "          }\n",
    "        }\n",
    "      ]\n",
    "    }\n",
    "  }\n",
    "}\n",
    "print_response(es.search(index='users', doc_type='user', body=query))"
   ]
  },
  {
   "cell_type": "code",
   "execution_count": null,
   "metadata": {
    "collapsed": false,
    "deletable": true,
    "editable": true
   },
   "outputs": [],
   "source": [
    "query = {\n",
    "  \"query\": {\n",
    "    \"bool\": {\n",
    "      \"must\": [\n",
    "        {\n",
    "          \"wildcard\": {\n",
    "            \"name\": {\n",
    "              \"value\": \"* *\"\n",
    "            }\n",
    "          }\n",
    "        }\n",
    "      ]\n",
    "    }\n",
    "  }\n",
    "}\n",
    "print_response(es.search(index='users', doc_type='user', body=query))"
   ]
  },
  {
   "cell_type": "code",
   "execution_count": null,
   "metadata": {
    "collapsed": false,
    "deletable": true,
    "editable": true
   },
   "outputs": [],
   "source": [
    "query = {\n",
    "  \"size\": 0,\n",
    "  \"query\": {\n",
    "    \"bool\": {\n",
    "      \"must\": [\n",
    "        {\n",
    "          \"range\": {\n",
    "            \"timestamp\": {\n",
    "              \"gte\": \"20/01/1988\",\n",
    "              \"lte\": \"2016\",\n",
    "              \"format\": \"dd/MM/yyyy||yyyy\"\n",
    "            }\n",
    "          }\n",
    "        }\n",
    "      ]\n",
    "    }\n",
    "  }\n",
    "}\n",
    "print_response(es.search(index='users', doc_type='user', body=query, ignore=400))"
   ]
  },
  {
   "cell_type": "code",
   "execution_count": null,
   "metadata": {
    "collapsed": false,
    "deletable": true,
    "editable": true
   },
   "outputs": [],
   "source": [
    "from elasticsearch.client import IndicesClient\n",
    "import json\n",
    "\n",
    "indice_client = IndicesClient(origin)\n",
    "\n",
    "mapping = indice_client.get_mapping(index='users', doc_type='user')\n",
    "\n",
    "print(json.dumps(mapping, sort_keys=True, indent=2))"
   ]
  },
  {
   "cell_type": "markdown",
   "metadata": {},
   "source": [
    "Las dos ultimas queries han fallado ya que, si no le decimos nada a elasticsearch, no sabe buscar por textos completos con espacios con wildcards y no sabe identificar que el numero entero que le introducimos como tiemstamp tiene que ser una fecha.\n",
    "\n",
    "Para esto es para lo que se utilizan los mappings, en este caso vamos a ver como definir un tipo de dato con los modelos estandar de elasticsearch y como hacer uno especifico.\n",
    "\n",
    "Para el caso del timestamp, tendremos que decirle que es de tipo date y que vienen en milliseconds\n",
    "\n",
    "```json\n",
    "\"timestamp\": {\n",
    "  \"type\": \"date\",\n",
    "  \"index\": true,\n",
    "  \"format\": \"strict_date_optional_time||epoch_millis\"\n",
    "}\n",
    "```\n",
    "\n",
    "Para el caso de los wildcards con espacios, tenemos que hacer nuestro analyzer, ya que no hay uno por defecto para hacer ese tipo de busqueadas. Para eso crearemos un analyzer que llamaremos keyword_lowercase, este se encargara de definir la manera de analizar los textos para que no lo separe por tokens.\n",
    "\n",
    "```json\n",
    "\"name\": {\n",
    "  \"type\": \"text\",\n",
    "  \"index\": true,\n",
    "  \"fielddata\": true,\n",
    "  \"analyzer\": \"keyword_lowercase\",\n",
    "  \"fields\": {\n",
    "    \"keyword\": {\n",
    "      \"type\": \"keyword\",\n",
    "      \"index\": true\n",
    "    }\n",
    "  }\n",
    "}\n",
    "```\n",
    "\n",
    "Para crear este analyzer, tenemos que añadir un campo a nuestro mapping, los settings, donde lo definiremos.\n",
    "\n",
    "```json\n",
    "\"settings\": {\n",
    "  \"analysis\": {\n",
    "    \"analyzer\": {\n",
    "      \"keyword_lowercase\": {\n",
    "        \"type\": \"custom\",\n",
    "        \"tokenizer\": \"keyword\",\n",
    "        \"filter\": [\n",
    "          \"lowercase\"\n",
    "        ]\n",
    "      }\n",
    "    }\n",
    "  }\n",
    "}\n",
    "```\n",
    "\n",
    "El mapping final seria el siguiente.\n",
    "\n",
    "```json\n",
    "{\n",
    "    \"settings\": {\n",
    "      \"analysis\": {\n",
    "        \"analyzer\": {\n",
    "          \"keyword_lowercase\": {\n",
    "            \"type\": \"custom\",\n",
    "            \"tokenizer\": \"keyword\",\n",
    "            \"filter\": [\n",
    "              \"lowercase\"\n",
    "            ]\n",
    "          }\n",
    "        }\n",
    "      }\n",
    "    },\n",
    "    \"mappings\": {\n",
    "      \"user\": {\n",
    "        \"properties\": {\n",
    "          \"address\": {\n",
    "            \"fields\": {\n",
    "              \"keyword\": {\n",
    "                \"ignore_above\": 256,\n",
    "                \"type\": \"keyword\"\n",
    "              }\n",
    "            },\n",
    "            \"type\": \"text\"\n",
    "          },\n",
    "          \"birthdate\": {\n",
    "            \"type\": \"date\"\n",
    "          },\n",
    "          \"mail\": {\n",
    "            \"fields\": {\n",
    "              \"keyword\": {\n",
    "                \"ignore_above\": 256,\n",
    "                \"type\": \"keyword\"\n",
    "              }\n",
    "            },\n",
    "            \"type\": \"text\"\n",
    "          },\n",
    "          \"name\": {\n",
    "            \"type\": \"text\",\n",
    "            \"index\": true,\n",
    "            \"fielddata\": true,\n",
    "            \"analyzer\": \"keyword_lowercase\",\n",
    "            \"fields\": {\n",
    "              \"keyword\": {\n",
    "                \"type\": \"keyword\",\n",
    "                \"index\": true\n",
    "              }\n",
    "            }\n",
    "          },\n",
    "          \"sex\": {\n",
    "            \"fields\": {\n",
    "              \"keyword\": {\n",
    "                \"ignore_above\": 256,\n",
    "                \"type\": \"keyword\"\n",
    "              }\n",
    "            },\n",
    "            \"type\": \"text\"\n",
    "          },\n",
    "          \"timestamp\": {\n",
    "            \"type\": \"date\",\n",
    "            \"index\": true,\n",
    "            \"format\": \"strict_date_optional_time||epoch_millis\"\n",
    "          },\n",
    "          \"username\": {\n",
    "            \"fields\": {\n",
    "              \"keyword\": {\n",
    "                \"ignore_above\": 256,\n",
    "                \"type\": \"keyword\"\n",
    "              }\n",
    "            },\n",
    "            \"type\": \"text\"\n",
    "          }\n",
    "        }\n",
    "      }\n",
    "    }\n",
    "}\n",
    "```"
   ]
  },
  {
   "cell_type": "markdown",
   "metadata": {},
   "source": [
    "Ahora tenemos que actualizar el mapping, podriamos borrar los datos y crear el indice de nuevo, pero perderiamos todos los datos, asi que vamos a ver como se hace un cambio de mapping y como trabajar para hacer que cambiar el mapping no suponga un problema.\n",
    "\n",
    "Lo primero que vamos es a crearnos un indice nuevo al que llamaremos users_v2 y que tendra el nuevo mapping."
   ]
  },
  {
   "cell_type": "code",
   "execution_count": null,
   "metadata": {
    "collapsed": false
   },
   "outputs": [],
   "source": [
    "mapping = {\n",
    "    \"settings\": {\n",
    "      \"analysis\": {\n",
    "        \"analyzer\": {\n",
    "          \"keyword_lowercase\": {\n",
    "            \"type\": \"custom\",\n",
    "            \"tokenizer\": \"keyword\",\n",
    "            \"filter\": [\n",
    "              \"lowercase\"\n",
    "            ]\n",
    "          }\n",
    "        }\n",
    "      }\n",
    "    },\n",
    "    \"mappings\": {\n",
    "      \"user\": {\n",
    "        \"properties\": {\n",
    "          \"address\": {\n",
    "            \"fields\": {\n",
    "              \"keyword\": {\n",
    "                \"ignore_above\": 256,\n",
    "                \"type\": \"keyword\"\n",
    "              }\n",
    "            },\n",
    "            \"type\": \"text\"\n",
    "          },\n",
    "          \"birthdate\": {\n",
    "            \"type\": \"date\"\n",
    "          },\n",
    "          \"mail\": {\n",
    "            \"fields\": {\n",
    "              \"keyword\": {\n",
    "                \"ignore_above\": 256,\n",
    "                \"type\": \"keyword\"\n",
    "              }\n",
    "            },\n",
    "            \"type\": \"text\"\n",
    "          },\n",
    "          \"name\": {\n",
    "            \"type\": \"text\",\n",
    "            \"index\": True,\n",
    "            \"fielddata\": True,\n",
    "            \"analyzer\": \"keyword_lowercase\",\n",
    "            \"fields\": {\n",
    "              \"keyword\": {\n",
    "                \"type\": \"keyword\",\n",
    "                \"index\": True\n",
    "              }\n",
    "            }\n",
    "          },\n",
    "          \"sex\": {\n",
    "            \"fields\": {\n",
    "              \"keyword\": {\n",
    "                \"ignore_above\": 256,\n",
    "                \"type\": \"keyword\"\n",
    "              }\n",
    "            },\n",
    "            \"type\": \"text\"\n",
    "          },\n",
    "          \"timestamp\": {\n",
    "            \"type\": \"date\",\n",
    "            \"index\": True,\n",
    "            \"format\": \"strict_date_optional_time||epoch_millis\"\n",
    "          },\n",
    "          \"username\": {\n",
    "            \"fields\": {\n",
    "              \"keyword\": {\n",
    "                \"ignore_above\": 256,\n",
    "                \"type\": \"keyword\"\n",
    "              }\n",
    "            },\n",
    "            \"type\": \"text\"\n",
    "          }\n",
    "        }\n",
    "      }\n",
    "    }\n",
    "  }\n",
    "\n",
    "es.indices.create(index='users_v1', ignore=400, body=mapping)"
   ]
  },
  {
   "cell_type": "markdown",
   "metadata": {},
   "source": [
    "Ahora tenemos que copiar los datos de un sitio a otro, para esto vamos a utilizar el healper de elasticsearch para recorrer todo un indice **scan** y la operacion de para hacer operaciones con mucho documentos **bulk**.\n",
    "\n",
    "La problematica realmente se da cuando tenemos mas de 10000 docs, ya que no podemos pedirlos todos de golpe, asi que usamos el **scroll**, que es una funcionalidad para recorrer todo el indice en multiples consulas, esto es lo que encapsula el **scan**."
   ]
  },
  {
   "cell_type": "code",
   "execution_count": null,
   "metadata": {
    "collapsed": false
   },
   "outputs": [],
   "source": [
    "from elasticsearch.helpers import scan\n",
    "from elasticsearch.client.indices import IndicesClient\n",
    "\n",
    "def copy_to(originIndexName, dstIndexName):\n",
    "    create_bulk_data = []\n",
    "    scroll = scan(es, index=originIndexName, scroll='10s')\n",
    "    for res in scroll:\n",
    "        create_bulk_data.append({\"index\": {\"_index\": dstIndexName,\n",
    "                                           \"_type\": res['_type'],\n",
    "                                           \"_id\": res['_id']}})\n",
    "        create_bulk_data.append(res['_source'])\n",
    "    if create_bulk_data:\n",
    "        es.bulk(index=dstIndexName, body=create_bulk_data)\n",
    "\n",
    "copy_to('users', 'users_v1')"
   ]
  },
  {
   "cell_type": "code",
   "execution_count": null,
   "metadata": {
    "collapsed": false
   },
   "outputs": [],
   "source": [
    "print_response(es.search(index='users_v1', doc_type='user', _source=False))"
   ]
  },
  {
   "cell_type": "code",
   "execution_count": null,
   "metadata": {
    "collapsed": false
   },
   "outputs": [],
   "source": [
    "indice_client.put_alias(index='users_v1', name='users', ignore=400)"
   ]
  },
  {
   "cell_type": "code",
   "execution_count": null,
   "metadata": {
    "collapsed": false
   },
   "outputs": [],
   "source": [
    "es.indices.delete(index='users')\n",
    "indice_client.put_alias(index='users_v1', name='users', ignore=400)"
   ]
  },
  {
   "cell_type": "code",
   "execution_count": null,
   "metadata": {
    "collapsed": false
   },
   "outputs": [],
   "source": [
    "query = {\n",
    "  \"size\": 0,\n",
    "  \"query\": {\n",
    "    \"bool\": {\n",
    "      \"must\": [\n",
    "        {\n",
    "          \"range\": {\n",
    "            \"timestamp\": {\n",
    "              \"gte\": \"20/01/1988\",\n",
    "              \"lte\": \"2016\",\n",
    "              \"format\": \"dd/MM/yyyy||yyyy\"\n",
    "            }\n",
    "          }\n",
    "        }\n",
    "      ]\n",
    "    }\n",
    "  }\n",
    "}\n",
    "print_response(es.search(index='users', doc_type='user', body=query, ignore=400))"
   ]
  },
  {
   "cell_type": "code",
   "execution_count": null,
   "metadata": {
    "collapsed": false
   },
   "outputs": [],
   "source": [
    "words = user_name.split()\n",
    "name_wildcards = ' '.join((words[0][-1], words[0][0:2]))\n",
    "print(name_wildcards)\n",
    "query = {\n",
    "  \"query\": {\n",
    "    \"bool\": {\n",
    "      \"must\": [\n",
    "        {\n",
    "          \"wildcard\": {\n",
    "            \"name\": {\n",
    "              \"value\": \"* *\".format(name_wildcards.lower())\n",
    "            }\n",
    "          }\n",
    "        }\n",
    "      ]\n",
    "    }\n",
    "  }\n",
    "}\n",
    "print_response(es.search(index='users', doc_type='user', body=query, _source=False))"
   ]
  }
 ],
 "metadata": {
  "kernelspec": {
   "display_name": "Python 3",
   "language": "python",
   "name": "python3"
  },
  "language_info": {
   "codemirror_mode": {
    "name": "ipython",
    "version": 3
   },
   "file_extension": ".py",
   "mimetype": "text/x-python",
   "name": "python",
   "nbconvert_exporter": "python",
   "pygments_lexer": "ipython3",
   "version": "3.5.2+"
  }
 },
 "nbformat": 4,
 "nbformat_minor": 2
}
